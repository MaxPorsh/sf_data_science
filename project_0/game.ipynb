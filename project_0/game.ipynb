{
 "cells": [
  {
   "cell_type": "markdown",
   "metadata": {},
   "source": [
    "Игра угадай число"
   ]
  },
  {
   "cell_type": "code",
   "execution_count": 6,
   "metadata": {},
   "outputs": [
    {
     "name": "stdout",
     "output_type": "stream",
     "text": [
      "Ваш алгоритм угадывает число в среднем за:37 попыток\n",
      "Количество попыток: 189\n"
     ]
    }
   ],
   "source": [
    "#\"\"\"\"Игра угадай число\"\"\"\n",
    "#\"\"\"Компьтер сам загадывает и угадывает число\"\"\"\"\"\"\n",
    "\n",
    "import numpy as np\n",
    "def random_predict(number:int=1) -> int:\n",
    "    \"\"\"Рандомно угадываем число \n",
    "\n",
    "    Args:\n",
    "        number (int, optional): Загаданное число. Defaults to 1.\n",
    "\n",
    "    Returns:\n",
    "        int: Число попыток\n",
    "    \"\"\"\n",
    "    count = 0\n",
    "    while True:\n",
    "        count+=1\n",
    "        predict_number = np.random.randint(1,101)\n",
    "        if number == predict_number:\n",
    "            break\n",
    "    return(count)\n",
    "\n",
    "def score_game(random_predict) ->int:\n",
    "    \"\"\"За какое количество в среднем за 1000 подходов угадывает наш алгоритм\n",
    "\n",
    "    Args:\n",
    "        random_predict (_type_): функция угадывания\n",
    "\n",
    "    Returns:\n",
    "        int: Среднее количество попыток\n",
    "    \"\"\"\n",
    "    count_ls=[]\n",
    "    np.random.seed(1)\n",
    "    random_array = np.random.randint(1, 101, size=(1000))\n",
    "    for number in random_array:\n",
    "        count_ls.append(random_predict(number))\n",
    "        \n",
    "        score = int(np.mean(count_ls))\n",
    "        print(f\"Ваш алгоритм угадывает число в среднем за:{score} попыток\")\n",
    "        return(score)\n",
    "    \n",
    "if __name__==\"__main__\":\n",
    "    score_game(random_predict)\n",
    "\n",
    "print(f'Количество попыток: {random_predict()}')"
   ]
  }
 ],
 "metadata": {
  "kernelspec": {
   "display_name": "Python 3.8.9 64-bit",
   "language": "python",
   "name": "python3"
  },
  "language_info": {
   "codemirror_mode": {
    "name": "ipython",
    "version": 3
   },
   "file_extension": ".py",
   "mimetype": "text/x-python",
   "name": "python",
   "nbconvert_exporter": "python",
   "pygments_lexer": "ipython3",
   "version": "3.8.9"
  },
  "orig_nbformat": 4,
  "vscode": {
   "interpreter": {
    "hash": "9650cb4e16cdd4a8e8e2d128bf38d875813998db22a3c986335f89e0cb4d7bb2"
   }
  }
 },
 "nbformat": 4,
 "nbformat_minor": 2
}
